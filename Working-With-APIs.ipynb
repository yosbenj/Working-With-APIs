{
 "cells": [
  {
   "cell_type": "markdown",
   "metadata": {},
   "source": [
    "# Use this notebook for your 3 choices of APIs"
   ]
  },
  {
   "cell_type": "markdown",
   "metadata": {},
   "source": [
    "# My chosen APIs:\n",
    "\n",
    "## Books:\n",
    "**1. Open Library:** Books, book covers and related data.\n",
    "\n",
    "https://openlibrary.org/developers/api\n",
    "\n",
    "## Health:\n",
    "**2. Humanitarian Data Exchange:**\tHumanitarian Data Exchange (HDX) is open platform for sharing data across crises and organisations.\n",
    "\n",
    "https://data.humdata.org/\n",
    "\n",
    "**3. Nutritionix:** Worlds largest verified nutrition database.\n",
    "\n",
    "https://developer.nutritionix.com/"
   ]
  },
  {
   "cell_type": "markdown",
   "metadata": {},
   "source": [
    "## Import Libraries"
   ]
  },
  {
   "cell_type": "code",
   "execution_count": 1,
   "metadata": {},
   "outputs": [],
   "source": [
    "import pandas as pd\n",
    "import requests\n",
    "import json\n",
    "from pandas import json_normalize"
   ]
  },
  {
   "cell_type": "markdown",
   "metadata": {},
   "source": [
    "## 1. Open Library"
   ]
  },
  {
   "cell_type": "markdown",
   "metadata": {},
   "source": [
    "### Create a DataFrame"
   ]
  },
  {
   "cell_type": "code",
   "execution_count": 2,
   "metadata": {},
   "outputs": [],
   "source": [
    "# Function to create a DataFrame from a given URL of an API\n",
    "def create_dataframe_from_api(api_url):\n",
    "    # Send a GET request to the API\n",
    "    response = requests.get(api_url)\n",
    "    \n",
    "    # Check if the request was successful\n",
    "    if response.status_code == 200:\n",
    "        # Parse the JSON data from the response\n",
    "        data = response.json()\n",
    "        \n",
    "        # Normalize the JSON data into a flat table\n",
    "        df = json_normalize(data)\n",
    "        \n",
    "        # Return the created DataFrame\n",
    "        return df\n",
    "    \n",
    "    else:\n",
    "        # Print an error message if the request was unsuccessful\n",
    "        print(f\"Failed to retrieve data: {response.status_code}\")\n",
    "        return pd.DataFrame()"
   ]
  },
  {
   "cell_type": "code",
   "execution_count": 3,
   "metadata": {},
   "outputs": [],
   "source": [
    "# Call the function\n",
    "api_url = \"https://openlibrary.org/people/mekBot/books/already-read.json\" \n",
    "df = create_dataframe_from_api(api_url)\n",
    "\n",
    "# The df variable now contains the DataFrame with the data from the API."
   ]
  },
  {
   "cell_type": "code",
   "execution_count": 4,
   "metadata": {},
   "outputs": [
    {
     "data": {
      "text/html": [
       "<div>\n",
       "<style scoped>\n",
       "    .dataframe tbody tr th:only-of-type {\n",
       "        vertical-align: middle;\n",
       "    }\n",
       "\n",
       "    .dataframe tbody tr th {\n",
       "        vertical-align: top;\n",
       "    }\n",
       "\n",
       "    .dataframe thead th {\n",
       "        text-align: right;\n",
       "    }\n",
       "</style>\n",
       "<table border=\"1\" class=\"dataframe\">\n",
       "  <thead>\n",
       "    <tr style=\"text-align: right;\">\n",
       "      <th></th>\n",
       "      <th>page</th>\n",
       "      <th>reading_log_entries</th>\n",
       "    </tr>\n",
       "  </thead>\n",
       "  <tbody>\n",
       "    <tr>\n",
       "      <th>0</th>\n",
       "      <td>1</td>\n",
       "      <td>[{'work': {'title': 'The Last Man Who Knew Eve...</td>\n",
       "    </tr>\n",
       "  </tbody>\n",
       "</table>\n",
       "</div>"
      ],
      "text/plain": [
       "   page                                reading_log_entries\n",
       "0     1  [{'work': {'title': 'The Last Man Who Knew Eve..."
      ]
     },
     "execution_count": 4,
     "metadata": {},
     "output_type": "execute_result"
    }
   ],
   "source": [
    "df"
   ]
  },
  {
   "cell_type": "code",
   "execution_count": 5,
   "metadata": {
    "scrolled": true
   },
   "outputs": [],
   "source": [
    "#df[\"reading_log_entries\"][0]"
   ]
  },
  {
   "cell_type": "code",
   "execution_count": 6,
   "metadata": {
    "scrolled": false
   },
   "outputs": [
    {
     "data": {
      "text/html": [
       "<div>\n",
       "<style scoped>\n",
       "    .dataframe tbody tr th:only-of-type {\n",
       "        vertical-align: middle;\n",
       "    }\n",
       "\n",
       "    .dataframe tbody tr th {\n",
       "        vertical-align: top;\n",
       "    }\n",
       "\n",
       "    .dataframe thead th {\n",
       "        text-align: right;\n",
       "    }\n",
       "</style>\n",
       "<table border=\"1\" class=\"dataframe\">\n",
       "  <thead>\n",
       "    <tr style=\"text-align: right;\">\n",
       "      <th></th>\n",
       "      <th>title</th>\n",
       "      <th>author_names</th>\n",
       "    </tr>\n",
       "  </thead>\n",
       "  <tbody>\n",
       "    <tr>\n",
       "      <th>0</th>\n",
       "      <td>The Last Man Who Knew Everything</td>\n",
       "      <td>Andrew Robinson, Andrew Robinson</td>\n",
       "    </tr>\n",
       "    <tr>\n",
       "      <th>1</th>\n",
       "      <td>Charlotte's Web</td>\n",
       "      <td>E. B. White</td>\n",
       "    </tr>\n",
       "    <tr>\n",
       "      <th>2</th>\n",
       "      <td>Attached</td>\n",
       "      <td>Amir Levine</td>\n",
       "    </tr>\n",
       "    <tr>\n",
       "      <th>3</th>\n",
       "      <td>Maybe You Should Talk to Someone</td>\n",
       "      <td>Lori Gottlieb</td>\n",
       "    </tr>\n",
       "    <tr>\n",
       "      <th>4</th>\n",
       "      <td>Autobiography</td>\n",
       "      <td>Benjamin Franklin, Benjamin Franklin</td>\n",
       "    </tr>\n",
       "    <tr>\n",
       "      <th>...</th>\n",
       "      <td>...</td>\n",
       "      <td>...</td>\n",
       "    </tr>\n",
       "    <tr>\n",
       "      <th>87</th>\n",
       "      <td>The demon spirit</td>\n",
       "      <td>R. A. Salvatore</td>\n",
       "    </tr>\n",
       "    <tr>\n",
       "      <th>88</th>\n",
       "      <td>The Highwayman</td>\n",
       "      <td>R. A. Salvatore</td>\n",
       "    </tr>\n",
       "    <tr>\n",
       "      <th>89</th>\n",
       "      <td>Assata</td>\n",
       "      <td>Assata Shakur</td>\n",
       "    </tr>\n",
       "    <tr>\n",
       "      <th>90</th>\n",
       "      <td>High Output Management</td>\n",
       "      <td>Andrew S. Grove</td>\n",
       "    </tr>\n",
       "    <tr>\n",
       "      <th>91</th>\n",
       "      <td>The Crystal Shard</td>\n",
       "      <td>R. A. Salvatore</td>\n",
       "    </tr>\n",
       "  </tbody>\n",
       "</table>\n",
       "<p>92 rows × 2 columns</p>\n",
       "</div>"
      ],
      "text/plain": [
       "                               title                          author_names\n",
       "0   The Last Man Who Knew Everything      Andrew Robinson, Andrew Robinson\n",
       "1                    Charlotte's Web                           E. B. White\n",
       "2                           Attached                           Amir Levine\n",
       "3   Maybe You Should Talk to Someone                         Lori Gottlieb\n",
       "4                      Autobiography  Benjamin Franklin, Benjamin Franklin\n",
       "..                               ...                                   ...\n",
       "87                  The demon spirit                       R. A. Salvatore\n",
       "88                    The Highwayman                       R. A. Salvatore\n",
       "89                            Assata                         Assata Shakur\n",
       "90            High Output Management                       Andrew S. Grove\n",
       "91                 The Crystal Shard                       R. A. Salvatore\n",
       "\n",
       "[92 rows x 2 columns]"
      ]
     },
     "execution_count": 6,
     "metadata": {},
     "output_type": "execute_result"
    }
   ],
   "source": [
    "# Initialize an empty list to store the extracted data\n",
    "extracted_data = []\n",
    "\n",
    "# Iterate over each row in the DataFrame\n",
    "# Extract the 'title' and 'author_names' from each 'work' entry in 'reading_log_entries'\n",
    "for index, row in df.iterrows():\n",
    "    # Get the list of reading log entries for the current row\n",
    "    reading_log_entries = row['reading_log_entries']\n",
    "    \n",
    "    # Iterate through each entry in the reading log entries\n",
    "    for entry in reading_log_entries:\n",
    "        # Each entry is a dictionary, and the 'work' key contains another dictionary\n",
    "        work_info = entry['work']\n",
    "        \n",
    "        # Now we can extract 'title' and 'author_names' from work_info\n",
    "        title = work_info.get('title')  # Using .get() to avoid KeyError if 'title' doesn't exist\n",
    "        author_names_list = work_info.get('author_names', [])  # Provide a default empty list if 'author_names' doesn't exist\n",
    "        \n",
    "        # Convert the list of author names to a string, joined by a comma and a space\n",
    "        author_names = ', '.join(author_names_list)\n",
    "        \n",
    "        # Append the extracted data to the list as a dictionary\n",
    "        extracted_data.append({'title': title, 'author_names': author_names})\n",
    "\n",
    "# Create a new DataFrame with the extracted data\n",
    "titles_authors_df = pd.DataFrame(extracted_data)\n",
    "\n",
    "# Display the new DataFrame\n",
    "titles_authors_df"
   ]
  },
  {
   "cell_type": "markdown",
   "metadata": {},
   "source": [
    "### Possible projects"
   ]
  },
  {
   "cell_type": "markdown",
   "metadata": {},
   "source": [
    "Recommend books based on books already read."
   ]
  },
  {
   "cell_type": "markdown",
   "metadata": {},
   "source": [
    "## 2. Humanitarian Data Exchange"
   ]
  },
  {
   "cell_type": "markdown",
   "metadata": {},
   "source": [
    "### Escalations in Gaza - Displaced Persons in UNRWA Shelters in Gaza"
   ]
  },
  {
   "cell_type": "code",
   "execution_count": 7,
   "metadata": {},
   "outputs": [
    {
     "data": {
      "text/html": [
       "<div>\n",
       "<style scoped>\n",
       "    .dataframe tbody tr th:only-of-type {\n",
       "        vertical-align: middle;\n",
       "    }\n",
       "\n",
       "    .dataframe tbody tr th {\n",
       "        vertical-align: top;\n",
       "    }\n",
       "\n",
       "    .dataframe thead th {\n",
       "        text-align: right;\n",
       "    }\n",
       "</style>\n",
       "<table border=\"1\" class=\"dataframe\">\n",
       "  <thead>\n",
       "    <tr style=\"text-align: right;\">\n",
       "      <th></th>\n",
       "      <th>#adm1+code</th>\n",
       "      <th>#adm1+name</th>\n",
       "      <th>#adm2+code</th>\n",
       "      <th>#adm2+name</th>\n",
       "      <th>#affected+cumulative+displaced+shelters</th>\n",
       "      <th>#affected+daily+displaced+shelters</th>\n",
       "      <th>#capacity+cumulative+shelters</th>\n",
       "      <th>#capacity+daily+shelters</th>\n",
       "      <th>#date</th>\n",
       "      <th>#meta+uncertain</th>\n",
       "    </tr>\n",
       "  </thead>\n",
       "  <tbody>\n",
       "    <tr>\n",
       "      <th>0</th>\n",
       "      <td>PS02</td>\n",
       "      <td>Gaza Strip</td>\n",
       "      <td>PS0255</td>\n",
       "      <td>Gaza North</td>\n",
       "      <td>34350</td>\n",
       "      <td></td>\n",
       "      <td>19</td>\n",
       "      <td></td>\n",
       "      <td>2023-10-08</td>\n",
       "      <td></td>\n",
       "    </tr>\n",
       "    <tr>\n",
       "      <th>1</th>\n",
       "      <td>PS02</td>\n",
       "      <td>Gaza Strip</td>\n",
       "      <td>PS0260</td>\n",
       "      <td>Gaza</td>\n",
       "      <td>15716</td>\n",
       "      <td></td>\n",
       "      <td>21</td>\n",
       "      <td></td>\n",
       "      <td>2023-10-08</td>\n",
       "      <td></td>\n",
       "    </tr>\n",
       "    <tr>\n",
       "      <th>2</th>\n",
       "      <td>PS02</td>\n",
       "      <td>Gaza Strip</td>\n",
       "      <td>PS0265</td>\n",
       "      <td>Deir Al Balah</td>\n",
       "      <td>3332</td>\n",
       "      <td></td>\n",
       "      <td>4</td>\n",
       "      <td></td>\n",
       "      <td>2023-10-08</td>\n",
       "      <td></td>\n",
       "    </tr>\n",
       "    <tr>\n",
       "      <th>3</th>\n",
       "      <td>PS02</td>\n",
       "      <td>Gaza Strip</td>\n",
       "      <td>PS0270</td>\n",
       "      <td>Khan Younis</td>\n",
       "      <td>10050</td>\n",
       "      <td></td>\n",
       "      <td>11</td>\n",
       "      <td></td>\n",
       "      <td>2023-10-08</td>\n",
       "      <td></td>\n",
       "    </tr>\n",
       "    <tr>\n",
       "      <th>4</th>\n",
       "      <td>PS02</td>\n",
       "      <td>Gaza Strip</td>\n",
       "      <td>PS0275</td>\n",
       "      <td>Rafah</td>\n",
       "      <td>10090</td>\n",
       "      <td></td>\n",
       "      <td>9</td>\n",
       "      <td></td>\n",
       "      <td>2023-10-08</td>\n",
       "      <td></td>\n",
       "    </tr>\n",
       "  </tbody>\n",
       "</table>\n",
       "</div>"
      ],
      "text/plain": [
       "  #adm1+code  #adm1+name #adm2+code     #adm2+name  \\\n",
       "0       PS02  Gaza Strip     PS0255     Gaza North   \n",
       "1       PS02  Gaza Strip     PS0260           Gaza   \n",
       "2       PS02  Gaza Strip     PS0265  Deir Al Balah   \n",
       "3       PS02  Gaza Strip     PS0270    Khan Younis   \n",
       "4       PS02  Gaza Strip     PS0275          Rafah   \n",
       "\n",
       "  #affected+cumulative+displaced+shelters #affected+daily+displaced+shelters  \\\n",
       "0                                   34350                                      \n",
       "1                                   15716                                      \n",
       "2                                    3332                                      \n",
       "3                                   10050                                      \n",
       "4                                   10090                                      \n",
       "\n",
       "  #capacity+cumulative+shelters #capacity+daily+shelters       #date  \\\n",
       "0                            19                           2023-10-08   \n",
       "1                            21                           2023-10-08   \n",
       "2                             4                           2023-10-08   \n",
       "3                            11                           2023-10-08   \n",
       "4                             9                           2023-10-08   \n",
       "\n",
       "  #meta+uncertain  \n",
       "0                  \n",
       "1                  \n",
       "2                  \n",
       "3                  \n",
       "4                  "
      ]
     },
     "execution_count": 7,
     "metadata": {},
     "output_type": "execute_result"
    }
   ],
   "source": [
    "# Call the function\n",
    "api_url2 = \"https://proxy.hxlstandard.org/data/download/Data_on_displaced_persons_in_UNRWA_shelters_by_governorate.objects.json?dest=data_edit&filter01=select&filter-label01=remove+adm1&select-query01-01=%23adm2%3DGaza+Strip&select-reverse01=on&filter02=add&filter-label02=adm2+code&add-tag02=%23adm2%2Bcode&add-header02=Governorate+p-code&add-before02=on&filter03=add&filter-label03=adm2+name&add-tag03=%23adm2%2Bname&add-value03=%7B%7B%23adm2%2Bname%2Borig%7D%7D&add-header03=Governorate&add-before03=on&filter04=add&filter-label04=adm1+code&add-tag04=%23adm1%2Bcode&add-value04=PS02&add-header04=Territory+p-code&add-before04=on&filter05=add&filter-label05=adm1+name&add-tag05=%23adm1%2Bname&add-value05=Gaza+Strip&add-header05=Territory&add-before05=on&filter06=add&filter-label06=date&add-tag06=%23date&add-value06=%7B%7B%23date%7D%7D&add-header06=Date&add-before06=on&filter07=merge&filter-label07=add+pcodes&merge-url07=https://docs.google.com/spreadsheets/d/1iH7HYkHXtiv6_1PO-MeaUMJa4dALVhRnOj3pMqkEslg/edit?usp%3Dsharing&merge-keys07=%23adm2%2Bname&merge-tags07=%23adm2%2Bcode&merge-replace07=on&merge-overwrite07=on&filter08=add&filter-label08=uncertain&add-tag08=%23meta%2Buncertain&add-header08=Uncertain&filter09=replace&filter-label09=flag+uncertain&replace-pattern09=%5E$&replace-regex09=on&replace-value09=y&replace-tags09=%23meta%2Buncertain&replace-where09=%23*~%5C*&filter10=clean&filter-label10=fix+dates+and+numbers&clean-date-tags10=%23date&clean-num-tags10=%23affected,%23capacity&filter11=replace&filter-label11=remove+dashes&replace-pattern11=-&replace-regex11=on&replace-tags11=%23affected,%23capacity&filter12=cut&filter-label12=remove+%2Borig&cut-exclude-tags12=%23*%2Borig&filter13=select&filter-label13=remove+comment+rows&select-query13-01=%23date~%5Cd%7B4%7D-%5Cd%7B2%7D-%5Cd%7B2%7D&tagger-match-all=on&tagger-01-header=date&tagger-01-tag=%23date%2Borig&tagger-02-header=governorate&tagger-02-tag=%23adm2%2Bname%2Borig&tagger-03-header=cumulative+displaced+persons+in+unrwa+shelters&tagger-03-tag=%23affected%2Bdisplaced%2Bshelters%2Bcumulative&tagger-04-header=daily+displaced+persons+in+unrwa+shelters&tagger-04-tag=%23affected%2Bdisplaced%2Bshelters%2Bdaily&tagger-05-header=cumulative+unrwa+shelters&tagger-05-tag=%23capacity%2Bshelters%2Bcumulative&tagger-06-header=daily+unrwa+shelters&tagger-06-tag=%23capacity%2Bshelters%2Bdaily&header-row=1&url=https://drive.google.com/file/d/19a3KG3J5FcOkrz9l72D3e-ifpicEZ7nY/view?usp%3Ddrive_web\" \n",
    "df = create_dataframe_from_api(api_url2)\n",
    "df.head()"
   ]
  },
  {
   "cell_type": "code",
   "execution_count": 8,
   "metadata": {},
   "outputs": [
    {
     "data": {
      "text/plain": [
       "(30, 10)"
      ]
     },
     "execution_count": 8,
     "metadata": {},
     "output_type": "execute_result"
    }
   ],
   "source": [
    "df.shape"
   ]
  },
  {
   "cell_type": "markdown",
   "metadata": {},
   "source": [
    "### Possible projects"
   ]
  },
  {
   "cell_type": "markdown",
   "metadata": {},
   "source": [
    "- Historical Trend Analysis\n",
    "- Displacement Pattern Mapping\n",
    "- Legal and Human Rights Analysis\n",
    "- Demographic Impact Study\n"
   ]
  },
  {
   "cell_type": "markdown",
   "metadata": {},
   "source": [
    "## 3. Nutritionix"
   ]
  },
  {
   "cell_type": "code",
   "execution_count": 9,
   "metadata": {},
   "outputs": [],
   "source": [
    "# I need an API key so I can't just call the previous function"
   ]
  },
  {
   "cell_type": "code",
   "execution_count": 10,
   "metadata": {},
   "outputs": [
    {
     "data": {
      "text/html": [
       "<div>\n",
       "<style scoped>\n",
       "    .dataframe tbody tr th:only-of-type {\n",
       "        vertical-align: middle;\n",
       "    }\n",
       "\n",
       "    .dataframe tbody tr th {\n",
       "        vertical-align: top;\n",
       "    }\n",
       "\n",
       "    .dataframe thead th {\n",
       "        text-align: right;\n",
       "    }\n",
       "</style>\n",
       "<table border=\"1\" class=\"dataframe\">\n",
       "  <thead>\n",
       "    <tr style=\"text-align: right;\">\n",
       "      <th></th>\n",
       "      <th>foods</th>\n",
       "    </tr>\n",
       "  </thead>\n",
       "  <tbody>\n",
       "    <tr>\n",
       "      <th>0</th>\n",
       "      <td>[{'food_name': 'grape', 'brand_name': None, 's...</td>\n",
       "    </tr>\n",
       "  </tbody>\n",
       "</table>\n",
       "</div>"
      ],
      "text/plain": [
       "                                               foods\n",
       "0  [{'food_name': 'grape', 'brand_name': None, 's..."
      ]
     },
     "execution_count": 10,
     "metadata": {},
     "output_type": "execute_result"
    }
   ],
   "source": [
    "# API key\n",
    "api_key = \"3ebfe37ee151e24d07f52985a4ff367d\"\n",
    "\n",
    "# API URL\n",
    "url = \"https://trackapi.nutritionix.com/v2/natural/nutrients\"\n",
    "\n",
    "# Data we want to send to the API (a query for a food item)\n",
    "data = {\n",
    "    \"query\": \"grape\",\n",
    "}\n",
    "\n",
    "# Request headers, including your API key\n",
    "headers = {\n",
    "    \"Content-Type\": \"application/json\",\n",
    "    \"x-app-id\": \"62658006\",  # App ID\n",
    "    \"x-app-key\": api_key,\n",
    "}\n",
    "\n",
    "# Make the POST request\n",
    "response = requests.post(url, headers=headers, json=data)\n",
    "\n",
    "# Check if the request was successful\n",
    "if response.status_code == 200:\n",
    "    # Convert the response to a DataFrame\n",
    "    df3 = pd.json_normalize(response.json())\n",
    "else:\n",
    "    print(\"Error in the request:\", response.status_code)\n",
    "\n",
    "df3"
   ]
  },
  {
   "cell_type": "code",
   "execution_count": 11,
   "metadata": {},
   "outputs": [
    {
     "name": "stdout",
     "output_type": "stream",
     "text": [
      "                                               foods\n",
      "0  [{'food_name': 'grape', 'brand_name': None, 's...\n"
     ]
    }
   ],
   "source": [
    "print(df3)"
   ]
  },
  {
   "cell_type": "code",
   "execution_count": 12,
   "metadata": {},
   "outputs": [],
   "source": [
    "# 'foods' is the column with dictionaries\n",
    "# We first ensure that the entries in 'foods' are actual dictionaries\n",
    "# If they are strings that represent dictionaries, we would need to convert them first\n",
    "# We use ast.literal_eval() to safely evaluate a string as a Python expression\n",
    "\n",
    "import ast"
   ]
  },
  {
   "cell_type": "code",
   "execution_count": 13,
   "metadata": {},
   "outputs": [],
   "source": [
    "# Convert string representations of dictionaries to actual dictionaries (if necessary)\n",
    "df3['foods'] = df3['foods'].apply(lambda x: ast.literal_eval(x) if isinstance(x, str) else x)\n",
    "\n",
    "# Use json_normalize to convert dictionaries to DataFrame rows\n",
    "# This assumes that each cell in 'foods' column contains a list with a single dictionary\n",
    "df4 = pd.json_normalize(df3['foods'].explode())"
   ]
  },
  {
   "cell_type": "code",
   "execution_count": 14,
   "metadata": {
    "scrolled": true
   },
   "outputs": [
    {
     "data": {
      "text/html": [
       "<div>\n",
       "<style scoped>\n",
       "    .dataframe tbody tr th:only-of-type {\n",
       "        vertical-align: middle;\n",
       "    }\n",
       "\n",
       "    .dataframe tbody tr th {\n",
       "        vertical-align: top;\n",
       "    }\n",
       "\n",
       "    .dataframe thead th {\n",
       "        text-align: right;\n",
       "    }\n",
       "</style>\n",
       "<table border=\"1\" class=\"dataframe\">\n",
       "  <thead>\n",
       "    <tr style=\"text-align: right;\">\n",
       "      <th></th>\n",
       "      <th>food_name</th>\n",
       "      <th>brand_name</th>\n",
       "      <th>serving_qty</th>\n",
       "      <th>serving_unit</th>\n",
       "      <th>serving_weight_grams</th>\n",
       "      <th>nf_calories</th>\n",
       "      <th>nf_total_fat</th>\n",
       "      <th>nf_saturated_fat</th>\n",
       "      <th>nf_cholesterol</th>\n",
       "      <th>nf_sodium</th>\n",
       "      <th>nf_total_carbohydrate</th>\n",
       "      <th>nf_dietary_fiber</th>\n",
       "      <th>nf_sugars</th>\n",
       "      <th>nf_protein</th>\n",
       "      <th>nf_potassium</th>\n",
       "      <th>nf_p</th>\n",
       "      <th>full_nutrients</th>\n",
       "      <th>nix_brand_name</th>\n",
       "      <th>nix_brand_id</th>\n",
       "      <th>nix_item_name</th>\n",
       "      <th>nix_item_id</th>\n",
       "      <th>upc</th>\n",
       "      <th>consumed_at</th>\n",
       "      <th>source</th>\n",
       "      <th>ndb_no</th>\n",
       "      <th>alt_measures</th>\n",
       "      <th>lat</th>\n",
       "      <th>lng</th>\n",
       "      <th>meal_type</th>\n",
       "      <th>sub_recipe</th>\n",
       "      <th>class_code</th>\n",
       "      <th>brick_code</th>\n",
       "      <th>tag_id</th>\n",
       "      <th>metadata.is_raw_food</th>\n",
       "      <th>tags.item</th>\n",
       "      <th>tags.measure</th>\n",
       "      <th>tags.quantity</th>\n",
       "      <th>tags.food_group</th>\n",
       "      <th>tags.tag_id</th>\n",
       "      <th>photo.thumb</th>\n",
       "      <th>photo.highres</th>\n",
       "      <th>photo.is_user_uploaded</th>\n",
       "    </tr>\n",
       "  </thead>\n",
       "  <tbody>\n",
       "    <tr>\n",
       "      <th>0</th>\n",
       "      <td>grape</td>\n",
       "      <td>None</td>\n",
       "      <td>10</td>\n",
       "      <td>grapes</td>\n",
       "      <td>49</td>\n",
       "      <td>33.81</td>\n",
       "      <td>0.08</td>\n",
       "      <td>0.03</td>\n",
       "      <td>0</td>\n",
       "      <td>0.98</td>\n",
       "      <td>8.87</td>\n",
       "      <td>0.44</td>\n",
       "      <td>7.59</td>\n",
       "      <td>0.35</td>\n",
       "      <td>93.59</td>\n",
       "      <td>9.8</td>\n",
       "      <td>[{'attr_id': 203, 'value': 0.3528}, {'attr_id'...</td>\n",
       "      <td>None</td>\n",
       "      <td>None</td>\n",
       "      <td>None</td>\n",
       "      <td>None</td>\n",
       "      <td>None</td>\n",
       "      <td>2023-11-25T11:51:29+00:00</td>\n",
       "      <td>1</td>\n",
       "      <td>9132</td>\n",
       "      <td>[{'serving_weight': 126, 'measure': 'NLEA serv...</td>\n",
       "      <td>None</td>\n",
       "      <td>None</td>\n",
       "      <td>1</td>\n",
       "      <td>None</td>\n",
       "      <td>None</td>\n",
       "      <td>None</td>\n",
       "      <td>None</td>\n",
       "      <td>False</td>\n",
       "      <td>grape</td>\n",
       "      <td>None</td>\n",
       "      <td>10.0</td>\n",
       "      <td>3</td>\n",
       "      <td>586</td>\n",
       "      <td>https://nix-tag-images.s3.amazonaws.com/586_th...</td>\n",
       "      <td>https://nix-tag-images.s3.amazonaws.com/586_hi...</td>\n",
       "      <td>False</td>\n",
       "    </tr>\n",
       "  </tbody>\n",
       "</table>\n",
       "</div>"
      ],
      "text/plain": [
       "  food_name brand_name  serving_qty serving_unit  serving_weight_grams  \\\n",
       "0     grape       None           10       grapes                    49   \n",
       "\n",
       "   nf_calories  nf_total_fat  nf_saturated_fat  nf_cholesterol  nf_sodium  \\\n",
       "0        33.81          0.08              0.03               0       0.98   \n",
       "\n",
       "   nf_total_carbohydrate  nf_dietary_fiber  nf_sugars  nf_protein  \\\n",
       "0                   8.87              0.44       7.59        0.35   \n",
       "\n",
       "   nf_potassium  nf_p                                     full_nutrients  \\\n",
       "0         93.59   9.8  [{'attr_id': 203, 'value': 0.3528}, {'attr_id'...   \n",
       "\n",
       "  nix_brand_name nix_brand_id nix_item_name nix_item_id   upc  \\\n",
       "0           None         None          None        None  None   \n",
       "\n",
       "                 consumed_at  source  ndb_no  \\\n",
       "0  2023-11-25T11:51:29+00:00       1    9132   \n",
       "\n",
       "                                        alt_measures   lat   lng  meal_type  \\\n",
       "0  [{'serving_weight': 126, 'measure': 'NLEA serv...  None  None          1   \n",
       "\n",
       "  sub_recipe class_code brick_code tag_id  metadata.is_raw_food tags.item  \\\n",
       "0       None       None       None   None                 False     grape   \n",
       "\n",
       "  tags.measure tags.quantity  tags.food_group  tags.tag_id  \\\n",
       "0         None          10.0                3          586   \n",
       "\n",
       "                                         photo.thumb  \\\n",
       "0  https://nix-tag-images.s3.amazonaws.com/586_th...   \n",
       "\n",
       "                                       photo.highres  photo.is_user_uploaded  \n",
       "0  https://nix-tag-images.s3.amazonaws.com/586_hi...                   False  "
      ]
     },
     "execution_count": 14,
     "metadata": {},
     "output_type": "execute_result"
    }
   ],
   "source": [
    "# Set the pandas display options to show all columns\n",
    "pd.set_option('display.max_columns', None)\n",
    "\n",
    "# Now when you view the DataFrame, it should show all columns\n",
    "df4"
   ]
  },
  {
   "cell_type": "markdown",
   "metadata": {},
   "source": [
    "### Possible Projects\n",
    "\n",
    "Regarding a project idea using this data, considering that the DataFrame contains nutritional information about foods, one potential project could be:\n",
    "\n",
    "**Nutrition and Diet Management Application**: We could develop an application that allows users to track their daily food intake and monitor their nutritional values against recommended dietary guidelines. The app could have features like:\n",
    "\n",
    "- **Daily Log**: Users can log what they eat each day, and the app will aggregate the nutritional information.\n",
    "- **Diet Analysis**: Analyze the user's dietary habits over time to identify deficiencies or excesses in certain nutrients.\n",
    "- **Meal Planning**: Suggest meal plans based on the user's dietary needs, preferences, and nutritional goals.\n",
    "- **Health Recommendations**: Based on the user's nutrition log, provide recommendations for foods that can help them meet their health goals.\n",
    "- **Educational Content**: Provide insights about the importance of each nutrient and its role in the body.\n",
    "\n",
    "This type of project can be both educational and practical, helping users to make informed decisions about their diet and potentially leading to healthier lifestyles."
   ]
  }
 ],
 "metadata": {
  "kernelspec": {
   "display_name": "Python 3 (ipykernel)",
   "language": "python",
   "name": "python3"
  },
  "language_info": {
   "codemirror_mode": {
    "name": "ipython",
    "version": 3
   },
   "file_extension": ".py",
   "mimetype": "text/x-python",
   "name": "python",
   "nbconvert_exporter": "python",
   "pygments_lexer": "ipython3",
   "version": "3.9.18"
  }
 },
 "nbformat": 4,
 "nbformat_minor": 4
}
